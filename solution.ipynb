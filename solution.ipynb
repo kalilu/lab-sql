{
 "cells": [
  {
   "cell_type": "markdown",
   "metadata": {},
   "source": [
    "# Challenge 2 - Create the Database and Tables"
   ]
  },
  {
   "cell_type": "code",
   "execution_count": 2,
   "metadata": {
    "ExecuteTime": {
     "end_time": "2020-01-24T21:39:33.674266Z",
     "start_time": "2020-01-24T21:39:33.656898Z"
    }
   },
   "outputs": [],
   "source": [
    "import os\n",
    "from google.cloud import bigquery\n",
    "\n",
    "os.environ[\"GOOGLE_APPLICATION_CREDENTIALS\"]=\"ironhack_service_account_big_query.json\"\n",
    "client = bigquery.Client()"
   ]
  },
  {
   "cell_type": "code",
   "execution_count": 3,
   "metadata": {
    "ExecuteTime": {
     "end_time": "2020-01-24T21:39:41.280035Z",
     "start_time": "2020-01-24T21:39:41.274248Z"
    }
   },
   "outputs": [],
   "source": [
    "query = '''\n",
    "CREATE TABLE car_dealership.car_2\n",
    "(\n",
    "    VIN STRING,\n",
    "    MANUFACTURER STRING,\n",
    "    MODEL STRING,\n",
    "    YEAR NUMERIC,\n",
    "    COLOR STRING\n",
    ")\n",
    "'''"
   ]
  },
  {
   "cell_type": "code",
   "execution_count": 4,
   "metadata": {
    "ExecuteTime": {
     "end_time": "2020-01-24T21:39:45.072479Z",
     "start_time": "2020-01-24T21:39:43.167130Z"
    }
   },
   "outputs": [],
   "source": [
    "query_job = client.query(query)\n",
    "df = query_job.to_dataframe()"
   ]
  },
  {
   "cell_type": "code",
   "execution_count": 13,
   "metadata": {
    "ExecuteTime": {
     "end_time": "2020-01-24T21:59:03.474227Z",
     "start_time": "2020-01-24T21:59:03.468360Z"
    }
   },
   "outputs": [],
   "source": [
    "query = '''\n",
    "CREATE TABLE car_dealership.customers_2\n",
    "(\n",
    "    CUSTOMER_ID STRING,\n",
    "    NAME STRING,\n",
    "    PHONE_NUMBER STRING,\n",
    "    EMAIL STRING,\n",
    "    ADDRESS STRING,\n",
    "    CITY STRING,\n",
    "    STATE STRING,\n",
    "    COUNTRY STRING,\n",
    "    POSTAL_CODE NUMERIC\n",
    ")\n",
    "'''"
   ]
  },
  {
   "cell_type": "code",
   "execution_count": 14,
   "metadata": {
    "ExecuteTime": {
     "end_time": "2020-01-24T21:59:06.222952Z",
     "start_time": "2020-01-24T21:59:05.204322Z"
    }
   },
   "outputs": [],
   "source": [
    "query_job = client.query(query)\n",
    "df = query_job.to_dataframe()"
   ]
  },
  {
   "cell_type": "code",
   "execution_count": 15,
   "metadata": {
    "ExecuteTime": {
     "end_time": "2020-01-24T22:00:01.576708Z",
     "start_time": "2020-01-24T22:00:01.567958Z"
    }
   },
   "outputs": [],
   "source": [
    "query = '''\n",
    "CREATE TABLE car_dealership.salesperson_2\n",
    "(\n",
    "    STAFF_ID STRING,\n",
    "    NAME STRING,\n",
    "    STORE STRING\n",
    ")\n",
    "'''"
   ]
  },
  {
   "cell_type": "code",
   "execution_count": 16,
   "metadata": {
    "ExecuteTime": {
     "end_time": "2020-01-24T22:00:03.327275Z",
     "start_time": "2020-01-24T22:00:02.265803Z"
    }
   },
   "outputs": [],
   "source": [
    "query_job = client.query(query)\n",
    "df = query_job.to_dataframe()"
   ]
  },
  {
   "cell_type": "code",
   "execution_count": 17,
   "metadata": {
    "ExecuteTime": {
     "end_time": "2020-01-24T22:08:28.259250Z",
     "start_time": "2020-01-24T22:08:28.245049Z"
    }
   },
   "outputs": [],
   "source": [
    "query = '''\n",
    "CREATE TABLE car_dealership.invoices_2\n",
    "(\n",
    "    INVOICE_NUMBER STRING,\n",
    "    DATE DATE,\n",
    "    CAR NUMERIC,\n",
    "    SPARE_PART NUMERIC,\n",
    "    CUSTOMER NUMERIC,\n",
    "    SALESPERSON NUMERIC\n",
    ")\n",
    "'''"
   ]
  },
  {
   "cell_type": "code",
   "execution_count": 18,
   "metadata": {
    "ExecuteTime": {
     "end_time": "2020-01-24T22:08:30.014916Z",
     "start_time": "2020-01-24T22:08:28.732456Z"
    }
   },
   "outputs": [],
   "source": [
    "query_job = client.query(query)\n",
    "df = query_job.to_dataframe()"
   ]
  },
  {
   "cell_type": "code",
   "execution_count": 19,
   "metadata": {
    "ExecuteTime": {
     "end_time": "2020-01-24T22:12:08.888003Z",
     "start_time": "2020-01-24T22:12:08.881022Z"
    }
   },
   "outputs": [],
   "source": [
    "query = '''\n",
    "CREATE TABLE car_dealership.spare_parts_2\n",
    "(\n",
    "    SPARE_PART_ID STRING,\n",
    "    MANUFACTURER STRING,\n",
    "    MODEL STRING,\n",
    "    DESCRIPTION STRING\n",
    ")\n",
    "'''"
   ]
  },
  {
   "cell_type": "code",
   "execution_count": 20,
   "metadata": {
    "ExecuteTime": {
     "end_time": "2020-01-24T22:12:10.691134Z",
     "start_time": "2020-01-24T22:12:09.518513Z"
    }
   },
   "outputs": [],
   "source": [
    "query_job = client.query(query)\n",
    "df = query_job.to_dataframe()"
   ]
  },
  {
   "cell_type": "markdown",
   "metadata": {},
   "source": [
    "# Challenge 3 - Seeding the Database"
   ]
  },
  {
   "cell_type": "code",
   "execution_count": 22,
   "metadata": {
    "ExecuteTime": {
     "end_time": "2020-01-24T22:27:00.887639Z",
     "start_time": "2020-01-24T22:27:00.880357Z"
    }
   },
   "outputs": [],
   "source": [
    "query = '''\n",
    "INSERT INTO car_dealership.car_2\n",
    "VALUES\n",
    "('3K096I98581DHSNUP', 'Volkswagen', 'Tiguan', 2019, 'Blue'),\n",
    "('ZM8G7BEUQZ97IH46V', 'Peugeot', 'Rifter', 2019, 'Red'),\n",
    "('RKXVNNIHLVVZOUB4M', 'Ford', 'Fusion', 2018, 'White'),\n",
    "('HKNDGS7CU31E9Z7JW', 'Toyota', 'RAV4', 2018, 'Silver'),\n",
    "('DAM41UDN3CHU2WVF6', 'Volvo', 'V60', 2019, 'Gray'),\n",
    "('DAM41UDN3CHU2WVF6', 'Volvo', 'V60 Cross Country', 2019, 'Gray')\n",
    "'''"
   ]
  },
  {
   "cell_type": "code",
   "execution_count": 23,
   "metadata": {
    "ExecuteTime": {
     "end_time": "2020-01-24T22:27:04.749410Z",
     "start_time": "2020-01-24T22:27:01.864654Z"
    }
   },
   "outputs": [],
   "source": [
    "query_job = client.query(query)\n",
    "df = query_job.to_dataframe()"
   ]
  },
  {
   "cell_type": "code",
   "execution_count": 26,
   "metadata": {
    "ExecuteTime": {
     "end_time": "2020-01-24T22:41:44.641628Z",
     "start_time": "2020-01-24T22:41:44.633439Z"
    }
   },
   "outputs": [],
   "source": [
    "query = '''\n",
    "INSERT INTO car_dealership.customers_2\n",
    "VALUES\n",
    "('10001','Pablo Picasso', '+34 636 17 63 82', '-', 'Paseo de la Chopera, 14', 'Madrid', 'Madrid', 'Spain', 28045),\n",
    "('20001','Abraham Lincoln','+1 305 907 7086', '-', '120 SW 8th St', 'Miami', 'Florida', 'United States', 33130),\n",
    "('30001','Napoléon Bonaparte', '+33 1 79 75 40 00', '-', '40 Rue du Colisée', 'Paris', 'Île-de-France', 'France', 75008)\n",
    "'''"
   ]
  },
  {
   "cell_type": "code",
   "execution_count": 27,
   "metadata": {
    "ExecuteTime": {
     "end_time": "2020-01-24T22:41:47.751201Z",
     "start_time": "2020-01-24T22:41:45.239118Z"
    }
   },
   "outputs": [],
   "source": [
    "query_job = client.query(query)\n",
    "df = query_job.to_dataframe()"
   ]
  },
  {
   "cell_type": "code",
   "execution_count": 28,
   "metadata": {
    "ExecuteTime": {
     "end_time": "2020-01-24T22:47:53.782533Z",
     "start_time": "2020-01-24T22:47:53.774188Z"
    }
   },
   "outputs": [],
   "source": [
    "query = '''\n",
    "INSERT INTO car_dealership.salesperson_2\n",
    "VALUES\n",
    "('00001', 'Petey Cruiser', 'Madrid'),\n",
    "('00002', 'Anna Sthesia', 'Barcelona'),\n",
    "('00003', 'Paul Molive', 'Berlin'),\n",
    "('00004', 'Gail Forcewind', 'Paris'),\n",
    "('00005', 'Paige Turner', 'Mimia'),\n",
    "('00006', 'Bob Frapples', 'Mexico City'),\n",
    "('00007', 'Walter Melon', 'Amsterdam'),\n",
    "('00008', 'Shonda Leer', 'São Paulo')\n",
    "'''"
   ]
  },
  {
   "cell_type": "code",
   "execution_count": 29,
   "metadata": {
    "ExecuteTime": {
     "end_time": "2020-01-24T22:47:58.038605Z",
     "start_time": "2020-01-24T22:47:54.986952Z"
    }
   },
   "outputs": [],
   "source": [
    "query_job = client.query(query)\n",
    "df = query_job.to_dataframe()"
   ]
  },
  {
   "cell_type": "code",
   "execution_count": 32,
   "metadata": {
    "ExecuteTime": {
     "end_time": "2020-01-24T22:59:41.169300Z",
     "start_time": "2020-01-24T22:59:41.160118Z"
    }
   },
   "outputs": [],
   "source": [
    "query = '''\n",
    "INSERT INTO car_dealership.invoices_2\n",
    "VALUES\n",
    "('852399038', DATE(2018,08,22), 0, 1, 3, 2),\n",
    "('731166526', DATE(2018,12,31), 3, 0, 0, 1),\n",
    "('271135104', DATE(2019,01,22), 2, 2, 0, 2)\n",
    "'''"
   ]
  },
  {
   "cell_type": "code",
   "execution_count": 33,
   "metadata": {
    "ExecuteTime": {
     "end_time": "2020-01-24T22:59:44.203148Z",
     "start_time": "2020-01-24T22:59:41.739225Z"
    }
   },
   "outputs": [],
   "source": [
    "query_job = client.query(query)\n",
    "df = query_job.to_dataframe()"
   ]
  },
  {
   "cell_type": "code",
   "execution_count": 34,
   "metadata": {
    "ExecuteTime": {
     "end_time": "2020-01-24T23:02:52.603532Z",
     "start_time": "2020-01-24T23:02:52.595472Z"
    }
   },
   "outputs": [],
   "source": [
    "query = '''\n",
    "INSERT INTO car_dealership.spare_parts_2\n",
    "VALUES\n",
    "('1', 'Volkswagen', 'Tiguan', 'Left Back Door'), \n",
    "('2', 'Peugeot', 'Rifter', 'Left Mirror'),\n",
    "('8', 'Ford', 'Fusion', 'Fridge')\n",
    "'''"
   ]
  },
  {
   "cell_type": "code",
   "execution_count": 35,
   "metadata": {
    "ExecuteTime": {
     "end_time": "2020-01-24T23:02:55.687660Z",
     "start_time": "2020-01-24T23:02:53.185333Z"
    }
   },
   "outputs": [],
   "source": [
    "query_job = client.query(query)\n",
    "df = query_job.to_dataframe()"
   ]
  },
  {
   "cell_type": "markdown",
   "metadata": {},
   "source": [
    "# Bonus Challenge - Updating and Deleting Database Records\n"
   ]
  },
  {
   "cell_type": "code",
   "execution_count": 36,
   "metadata": {
    "ExecuteTime": {
     "end_time": "2020-01-24T23:11:44.393555Z",
     "start_time": "2020-01-24T23:11:44.386811Z"
    }
   },
   "outputs": [],
   "source": [
    "query = '''\n",
    "UPDATE car_dealership.customers_2\n",
    "SET EMAIL = 'ppicasso@gmail.com' WHERE NAME = 'Pablo Picasso'\n",
    "'''"
   ]
  },
  {
   "cell_type": "code",
   "execution_count": 37,
   "metadata": {
    "ExecuteTime": {
     "end_time": "2020-01-24T23:11:47.860749Z",
     "start_time": "2020-01-24T23:11:45.187971Z"
    }
   },
   "outputs": [],
   "source": [
    "query_job = client.query(query)\n",
    "df = query_job.to_dataframe()"
   ]
  },
  {
   "cell_type": "code",
   "execution_count": 38,
   "metadata": {
    "ExecuteTime": {
     "end_time": "2020-01-24T23:12:04.674106Z",
     "start_time": "2020-01-24T23:12:04.666269Z"
    }
   },
   "outputs": [],
   "source": [
    "query = '''\n",
    "UPDATE car_dealership.customers_2\n",
    "SET EMAIL = 'lincoln@us.gov' WHERE NAME = 'Abraham Lincoln'\n",
    "'''"
   ]
  },
  {
   "cell_type": "code",
   "execution_count": 39,
   "metadata": {
    "ExecuteTime": {
     "end_time": "2020-01-24T23:14:44.385617Z",
     "start_time": "2020-01-24T23:14:41.900167Z"
    }
   },
   "outputs": [],
   "source": [
    "query_job = client.query(query)\n",
    "df = query_job.to_dataframe()"
   ]
  },
  {
   "cell_type": "code",
   "execution_count": 40,
   "metadata": {
    "ExecuteTime": {
     "end_time": "2020-01-24T23:12:08.830969Z",
     "start_time": "2020-01-24T23:12:08.822814Z"
    }
   },
   "outputs": [],
   "source": [
    "query = '''\n",
    "UPDATE car_dealership.customers_2\n",
    "SET EMAIL = 'hello@napoleon.me' WHERE NAME = 'Napoléon Bonaparte'\n",
    "'''"
   ]
  },
  {
   "cell_type": "code",
   "execution_count": 41,
   "metadata": {
    "ExecuteTime": {
     "end_time": "2020-01-24T23:14:44.385617Z",
     "start_time": "2020-01-24T23:14:41.900167Z"
    }
   },
   "outputs": [],
   "source": [
    "query_job = client.query(query)\n",
    "df = query_job.to_dataframe()"
   ]
  },
  {
   "cell_type": "code",
   "execution_count": 42,
   "metadata": {
    "ExecuteTime": {
     "end_time": "2020-01-24T23:14:39.764779Z",
     "start_time": "2020-01-24T23:14:39.757405Z"
    }
   },
   "outputs": [],
   "source": [
    "query = '''\n",
    "UPDATE car_dealership.salesperson_2\n",
    "SET STORE = 'Miami' WHERE NAME = 'Paige Turner'\n",
    "'''"
   ]
  },
  {
   "cell_type": "code",
   "execution_count": 43,
   "metadata": {
    "ExecuteTime": {
     "end_time": "2020-01-24T23:14:44.385617Z",
     "start_time": "2020-01-24T23:14:41.900167Z"
    }
   },
   "outputs": [],
   "source": [
    "query_job = client.query(query)\n",
    "df = query_job.to_dataframe()"
   ]
  },
  {
   "cell_type": "code",
   "execution_count": 44,
   "metadata": {
    "ExecuteTime": {
     "end_time": "2020-01-24T23:21:33.166985Z",
     "start_time": "2020-01-24T23:21:33.161094Z"
    }
   },
   "outputs": [],
   "source": [
    "query = '''\n",
    "DELETE FROM car_dealership.car_2\n",
    "WHERE\n",
    "    VIN = 'DAM41UDN3CHU2WVF6' \n",
    "    AND MANUFACTURER = 'Volvo' AND MODEL = 'V60' \n",
    "    AND YEAR = 2019 AND COLOR = 'Gray'\n",
    "'''"
   ]
  },
  {
   "cell_type": "code",
   "execution_count": 45,
   "metadata": {
    "ExecuteTime": {
     "end_time": "2020-01-24T23:21:39.339464Z",
     "start_time": "2020-01-24T23:21:33.977424Z"
    }
   },
   "outputs": [],
   "source": [
    "query_job = client.query(query)\n",
    "df = query_job.to_dataframe()"
   ]
  }
 ],
 "metadata": {
  "kernelspec": {
   "display_name": "Python 3",
   "language": "python",
   "name": "python3"
  },
  "language_info": {
   "codemirror_mode": {
    "name": "ipython",
    "version": 3
   },
   "file_extension": ".py",
   "mimetype": "text/x-python",
   "name": "python",
   "nbconvert_exporter": "python",
   "pygments_lexer": "ipython3",
   "version": "3.7.1"
  },
  "latex_envs": {
   "LaTeX_envs_menu_present": true,
   "autoclose": false,
   "autocomplete": true,
   "bibliofile": "biblio.bib",
   "cite_by": "apalike",
   "current_citInitial": 1,
   "eqLabelWithNumbers": true,
   "eqNumInitial": 1,
   "hotkeys": {
    "equation": "Ctrl-E",
    "itemize": "Ctrl-I"
   },
   "labels_anchors": false,
   "latex_user_defs": false,
   "report_style_numbering": false,
   "user_envs_cfg": false
  },
  "toc": {
   "base_numbering": 1,
   "nav_menu": {},
   "number_sections": true,
   "sideBar": true,
   "skip_h1_title": false,
   "title_cell": "Table of Contents",
   "title_sidebar": "Contents",
   "toc_cell": false,
   "toc_position": {},
   "toc_section_display": true,
   "toc_window_display": false
  },
  "varInspector": {
   "cols": {
    "lenName": 16,
    "lenType": 16,
    "lenVar": 40
   },
   "kernels_config": {
    "python": {
     "delete_cmd_postfix": "",
     "delete_cmd_prefix": "del ",
     "library": "var_list.py",
     "varRefreshCmd": "print(var_dic_list())"
    },
    "r": {
     "delete_cmd_postfix": ") ",
     "delete_cmd_prefix": "rm(",
     "library": "var_list.r",
     "varRefreshCmd": "cat(var_dic_list()) "
    }
   },
   "types_to_exclude": [
    "module",
    "function",
    "builtin_function_or_method",
    "instance",
    "_Feature"
   ],
   "window_display": false
  }
 },
 "nbformat": 4,
 "nbformat_minor": 2
}
